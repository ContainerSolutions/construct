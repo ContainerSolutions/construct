{
 "cells": [
  {
   "cell_type": "markdown",
   "metadata": {},
   "source": [
    "# Apache Mesos HTTP API\n",
    "\n",
    "This notebook will show how to connect to a running Master/Slave and launch commands via a simple `CommandInfo` protocol buffer.\n",
    "\n",
    "The main goal of this notebook is to show how to interact with the new [Mesos HTTP API](https://github.com/apache/mesos/blob/master/docs/scheduler_http_api.md) in Python.\n",
    "\n",
    "## Prerequisites\n",
    "\n",
    "- you have RTFM (link above);\n",
    "- you know how to build/run Apache Mesos locally (see the [Starting Guide](http://mesos.apache.org/gettingstarted/))\n",
    "- you are familiar with Python [Requests](http://www.python-requests.org/en/latest/) framework.\n",
    "\n",
    "## Starting Mesos\n",
    "\n",
    "### Vagrant Up\n",
    "\n",
    "There is a [`Vagrantfile`](https://github.com/massenz/zk-mesos/blob/develop/vagrant/Vagrantfile) provided in this repository (along with a couple of `provisioning` shell scripts) that will do the needful:\n",
    "\n",
    "```\n",
    "    cd vagrant\n",
    "    vagrant up\n",
    "```\n",
    "\n",
    "### Building Mesos\n",
    "\n",
    "If DYI is more your thing (or prefer to run from `HEAD`) then follow the instructions on the [Getting Started page](http://mesos.apache.org/gettingstarted/) and take it from there.\n",
    "\n",
    "Nothing unusal here, start ZooKeeper (`zkServer.sh start`) then start Master/Agent nodes on `localhost`:\n",
    "```\n",
    "./bin/mesos-master.sh --zk=zk://localhost:2181/mesos/test --work_dir=/tmp/mesos-24 --quorum=1 --port=5051           \n",
    "```\n",
    "\n",
    "and, in another shell:\n",
    "```\n",
    "./bin/mesos-slave.sh --master=zk://localhost:2181/mesos/test --work_dir=/tmp/slave --port=5055\n",
    "```\n",
    "\n",
    "Then navigate to the [Mesos Web UI](http://localhost:5051) and make sure all it's working just fine.\n",
    "If the above doesn't work, it's unlikely that anything in the following ever will.\n",
    "\n",
    "Remember to adjust the Master/Agent URLs accordingly:\n",
    "```\n",
    "# Adjust the ports according to how you launched Mesos:\n",
    "# see --port in the commands in \"Prerequisites\"\n",
    "MASTER_URL = 'http://localhost:5051'\n",
    "SLAVE_URL = 'http://localhost:5055'\n",
    "```\n",
    "\n",
    "(if the above does not work, there may be issues with `hostname` resolution - you may need to update your `/etc/hosts` accordingly - completely outside the scope of this notebook, though).\n",
    "\n",
    "\n",
    "## Python Virtualenv\n",
    "\n",
    "I always strongly recommend that folks use virtual environments when messing around with Python and installing libraries - feel free to skip this, but if you end up borking your system... **you have been warned**.\n",
    "\n",
    "See the `requirements.txt` in this repo.\n",
    "\n",
    "My actual `dev` virtualenv has a lot more stuff, but the above should be sufficient to get you going (and probably need strictly even less than that - YMMV); most of the dependencies above are for IPython Notebooks.\n",
    "\n",
    "```\n",
    "mkvirtualenv dev\n",
    "pip install -r requirements.txt\n",
    "ipython notebook\n",
    "```\n",
    "Then load this file in your Notebook.\n",
    "\n",
    "Happy hacking!"
   ]
  },
  {
   "cell_type": "markdown",
   "metadata": {},
   "source": [
    "\n",
    "# Common Imports & Useful globals"
   ]
  },
  {
   "cell_type": "code",
   "execution_count": 1,
   "metadata": {
    "collapsed": true
   },
   "outputs": [],
   "source": [
    "from __future__ import print_function\n",
    "\n",
    "import json\n",
    "import os\n",
    "import pprint\n",
    "import random\n",
    "import requests\n",
    "import sh\n",
    "from threading import Thread\n",
    "from time import ctime, sleep, time\n",
    "\n",
    "\n",
    "# See KillTaskMessage in include/mesos/v1/scheduler/scheduler.proto\n",
    "SUBSCRIBE_BODY = {\n",
    "    \"type\": \"SUBSCRIBE\",\n",
    "    \"subscribe\": {\n",
    "        \"framework_info\": {\n",
    "            \"user\" :  \"vagrant\",\n",
    "            \"name\" :  \"Example HTTP Framework\"\n",
    "        },\n",
    "        \"force\" : True\n",
    "    }\n",
    "}\n",
    "\n",
    "#### **NOTE**\n",
    "#\n",
    "# Even though framework_id is defined as \"optional\" in scheduler.proto, it MUST\n",
    "# always be present:\n",
    "#      optional FrameworkID framework_id = 1;\n",
    "#\n",
    "# in all Call messages, apart from the SUBSCRIBE - because we don't have an ID\n",
    "# before subscribing (which is why it's defined as `optional`).\n",
    "\n",
    "\n",
    "# See KillTaskMessage in include/mesos/v1/scheduler/scheduler.proto\n",
    "TEARDOWN_BODY = {\n",
    "    \"type\": \"TEARDOWN\",\n",
    "    \"framework_id\": {\n",
    "        \"value\" : None\n",
    "    }\n",
    "}\n",
    "\n",
    "# See KillTaskMessage in include/mesos/v1/scheduler/scheduler.proto\n",
    "KILLTASK_BODY = {\n",
    "    \"type\": \"KILL\",\n",
    "    \"framework_id\": {\n",
    "        \"value\" : None\n",
    "    },\n",
    "    \"kill\": {\n",
    "        \"agent_id\": {\"value\": None},\n",
    "        \"task_id\": {\"value\": None}\n",
    "    }\n",
    "}\n",
    "\n",
    "\n",
    "DOCKER_JSON = \"../resources/container.json\"\n",
    "LAUNCH_JSON = \"../resources/launch.json\"\n",
    "TASK_RESOURCES_JSON = \"../resources/task_resources.json\"\n",
    "\n",
    "\n",
    "# Adjust the ports according to how you launched Mesos:\n",
    "# see --port in the commands in \"Prerequisites\"\n",
    "MASTER_URL = 'http://192.168.33.10:5050'\n",
    "SLAVE_URL = 'http://192.168.33.11:5051'\n",
    "API_V1 = '/api/v1/scheduler'\n",
    "API_URL = '{}/{}'.format(MASTER_URL, API_V1)\n",
    "CONTENT = 'application/json'\n",
    "\n",
    "headers = {\n",
    "    \"Content-Type\": CONTENT, \n",
    "    \"Accept\": CONTENT, \n",
    "    \"Connection\": \"close\"\n",
    "}\n",
    "\n",
    "pretty = pprint.PrettyPrinter(indent=2)\n",
    "\n",
    "def get_json(filename):\n",
    "    \"\"\" Loads the JSON from the given filename.\"\"\"\n",
    "    with open(filename) as jsonfile:\n",
    "        lines = jsonfile.readlines()\n",
    "\n",
    "    return json.loads(\"\".join(lines))"
   ]
  },
  {
   "cell_type": "markdown",
   "metadata": {},
   "source": [
    "These are the globals that are used to communicate with the background thread; they are currently **thread-unsafe** and may (or may not - chances of a race are pretty slim here) need to be protected with a `RLock`"
   ]
  },
  {
   "cell_type": "code",
   "execution_count": 2,
   "metadata": {
    "collapsed": true
   },
   "outputs": [],
   "source": [
    "# TODO: THIS IS THREAD-UNSAFE\n",
    "terminate = False\n",
    "offers = []\n",
    "framework_id = None\n",
    "last_heartbeat = None"
   ]
  },
  {
   "cell_type": "markdown",
   "metadata": {},
   "source": [
    "## POST helper method\n",
    "\n",
    "Sends POST request to the given URL using the `requests` library: all optional arguments passed in `**kwargs` are passed straight through to the `post()` call.\n",
    "\n",
    "If it's not a \"streaming\" request (see below) and we get a `2xx` response, we return the `Response` object.\n",
    "\n",
    "### Streaming channel\n",
    "\n",
    "When we specify a `stream` argument in `**kwargs`, then we open a \"streaming channel\" to Master: this is used to subscribe a Framework.\n",
    "\n",
    "This uses [Request's streaming API](http://www.python-requests.org/en/latest/user/advanced/#chunk-encoded-requests) for the \"chunk-encoded response\".\n",
    "\n",
    "This method opens a persistent connection to the Master which will continue to receive events \"callbacks\" for\n",
    "the lifetime of the Framework; the stream is serialized in `RecordIO` format, which essential means it\n",
    "looks something like:\n",
    "```\n",
    "110\\n\n",
    "{ \"type\": \"OFFERS\", ... }224\\n\n",
    "{ \"type\": \"HEARTBEAT\"... }435\\n\n",
    "...\n",
    "```\n",
    "this will continue until we either tear down the connection, or send a `TEARDOWN` call (see `terminate_framework()` below)."
   ]
  },
  {
   "cell_type": "code",
   "execution_count": 3,
   "metadata": {
    "collapsed": true
   },
   "outputs": [],
   "source": [
    "def post(url, body, **kwargs):\n",
    "    \"\"\" POST `body` to the given `url`.\n",
    "    \n",
    "        @return: the Response from the server.\n",
    "        @rtype: requests.Response\n",
    "    \"\"\"\n",
    "    import time\n",
    "    print('Connecting to Master: ' + url)\n",
    "    r = requests.post(url, headers=headers, data=json.dumps(body), **kwargs)\n",
    "    \n",
    "    if r.status_code not in [200, 202]:\n",
    "        raise ValueError(\"Error sending request: {} - {}\".format(r.status_code, r.text))\n",
    "    if 'stream' in kwargs:\n",
    "        # The streaming format needs some munging:\n",
    "        first_line = True\n",
    "        for line in r.iter_lines():\n",
    "            if first_line:\n",
    "                count_bytes = int(line)\n",
    "                first_line = False\n",
    "                continue\n",
    "            body = json.loads(line[:count_bytes])\n",
    "            count_bytes = int(line[count_bytes:])\n",
    "            if body.get(\"type\") == \"HEARTBEAT\":\n",
    "                global last_heartbeat\n",
    "                last_hearbeat = time.ctime()\n",
    "            if body.get(\"type\") == \"ERROR\":\n",
    "                print(\"[ERROR] {}\".format(body))\n",
    "            # When we get OFFERS we want to see them (and eventually, use them)\n",
    "            if body.get(\"type\") == \"OFFERS\":\n",
    "                global offers\n",
    "                offers = body.get(\"offers\")\n",
    "            # We need to capture the framework_id to use in subsequent requests.\n",
    "            if body.get(\"type\") == \"SUBSCRIBED\":\n",
    "                global framework_id\n",
    "                framework_id = body.get(\"subscribed\").get(\"framework_id\").get(\"value\")\n",
    "                if framework_id:\n",
    "                    print(\"Framework {} registered with Master at ({})\".format(framework_id, url))\n",
    "            if terminate:\n",
    "                return\n",
    "    return r"
   ]
  },
  {
   "cell_type": "code",
   "execution_count": 4,
   "metadata": {
    "collapsed": true
   },
   "outputs": [],
   "source": [
    "def get_framework(index=None, id=None):\n",
    "    \"\"\"Gets information about the given Framework.\n",
    "    \n",
    "       From the `/state.json` endpoint (soon to be deprecated, in favor of `/state`)\n",
    "       we retrieve the Framework information.\n",
    "       \n",
    "       Can only specify one of either `index` or `id`.\n",
    "       \n",
    "       @param index: the index in the array of active frameworks\n",
    "       @param id: the framework ID\n",
    "       @return: the full `FrameworkInfo` structure\n",
    "       @rtype: dict\n",
    "    \"\"\"\n",
    "    if index and id:\n",
    "        raise ValueError(\"Cannot specify both ID and Index\")\n",
    "    r = requests.get(\"{}/state.json\".format(MASTER_URL))\n",
    "    master_state = r.json()\n",
    "    frameworks = master_state.get(\"frameworks\")\n",
    "    if frameworks and isinstance(frameworks, list):\n",
    "        if index is not None and len(frameworks) > index:\n",
    "            return frameworks[index]\n",
    "        elif id:\n",
    "            for framework in frameworks:\n",
    "                if framework.get(\"id\") == id:\n",
    "                    return framework\n"
   ]
  },
  {
   "cell_type": "markdown",
   "metadata": {},
   "source": [
    "## Warm up\n",
    "\n",
    "The following code just checks that there is connectivity and the settings are all correct: do not move forward until this run successfully."
   ]
  },
  {
   "cell_type": "code",
   "execution_count": 6,
   "metadata": {
    "collapsed": false
   },
   "outputs": [
    {
     "name": "stdout",
     "output_type": "stream",
     "text": [
      "Mesos version running at 0.24.1\n"
     ]
    }
   ],
   "source": [
    "r = requests.get(\"{}/state.json\".format(MASTER_URL))\n",
    "master_state = r.json()\n",
    "\n",
    "r = requests.get(\"{}/state.json\".format(SLAVE_URL))\n",
    "slave_state = r.json()\n",
    "\n",
    "# If this is not true, you're in for a world of hurt:\n",
    "assert master_state[\"version\"] == slave_state[\"version\"]\n",
    "print(\"Mesos version running at {}\".format(master_state[\"version\"]))\n",
    "\n",
    "# And right now there ought to be no frameworks:\n",
    "assert get_framework(index=0) is None"
   ]
  },
  {
   "cell_type": "markdown",
   "metadata": {},
   "source": [
    "# Registering a Framework\n",
    "\n",
    "Using the HTTP API requires to run at least two separate threads: one for the \"incoming\" Master messages **to** the Framework (the HTTP connection we opened with the initial `SUBSCRIBE` `POST`) and another **from** the Framework to the Master to actual convey our requests (eg, accepting `OFFER`s).\n",
    "\n",
    "We will be using the `threading` module, as this is I/O-bound and there is no CPU contention; we will run a background thread (`persistent_channel`) to receive messages from Mesos, and will use the main thread to send `requests` to Master.\n",
    "\n",
    "The code in this Notebook **is not thread-safe**; in particular, we don't use any form of locking, as there is no real concern about races over shared data: in real production code, one should obviously protect shared data with suitable `locks` (see the [Python Multithreading documentation](https://docs.python.org/3/library/threading.html) for more details)."
   ]
  },
  {
   "cell_type": "code",
   "execution_count": 7,
   "metadata": {
    "collapsed": false
   },
   "outputs": [
    {
     "name": "stdout",
     "output_type": "stream",
     "text": [
      "The background channel was started to http://192.168.33.10:5050//api/v1/scheduler\n",
      "Connecting to Master: http://192.168.33.10:5050//api/v1/scheduler\n"
     ]
    }
   ],
   "source": [
    "try:\n",
    "    kwargs = {'stream':True, 'timeout':30}\n",
    "    persistent_channel = Thread(target=post, args=(API_URL, SUBSCRIBE_BODY), kwargs=kwargs)\n",
    "    persistent_channel.daemon = True\n",
    "    persistent_channel.start()\n",
    "    print(\"The background channel was started to {}\".format(API_URL))\n",
    "except Exception, ex:\n",
    "    print(\"An error occurred: {}\".format(ex))"
   ]
  },
  {
   "cell_type": "markdown",
   "metadata": {},
   "source": [
    "# Accepting Offers for Resources\n",
    "\n",
    "We need a tiny amount of resources (0.1 CPU, 32 MB of RAM) to run a simple command on the Slave.\n",
    "\n",
    "## Wait for Offers\n",
    "\n",
    "We need to wait first for the framework to register, then to get resource offers:"
   ]
  },
  {
   "cell_type": "code",
   "execution_count": 8,
   "metadata": {
    "collapsed": false
   },
   "outputs": [
    {
     "name": "stdout",
     "output_type": "stream",
     "text": [
      "Framework 20151009-101103-169978048-5050-6355-0000 registered with Master at (http://192.168.33.10:5050//api/v1/scheduler)\n",
      "Registered a Framework with ID: 20151009-101103-169978048-5050-6355-0000\n",
      "Waiting for offers...\n",
      "Got offers:\n",
      "{ u'offers': [ { u'agent_id': { u'value': u'20151009-101103-169978048-5050-6355-S0'},\n",
      "                 u'framework_id': { u'value': u'20151009-101103-169978048-5050-6355-0000'},\n",
      "                 u'hostname': u'mesos-agent',\n",
      "                 u'id': { u'value': u'20151009-101103-169978048-5050-6355-O0'},\n",
      "                 u'resources': [ { u'name': u'cpus',\n",
      "                                   u'role': u'*',\n",
      "                                   u'scalar': { u'value': 1},\n",
      "                                   u'type': u'SCALAR'},\n",
      "                                 { u'name': u'mem',\n",
      "                                   u'role': u'*',\n",
      "                                   u'scalar': { u'value': 244},\n",
      "                                   u'type': u'SCALAR'},\n",
      "                                 { u'name': u'disk',\n",
      "                                   u'role': u'*',\n",
      "                                   u'scalar': { u'value': 35164},\n",
      "                                   u'type': u'SCALAR'},\n",
      "                                 { u'name': u'ports',\n",
      "                                   u'ranges': { u'range': [ { u'begin': 31000,\n",
      "                                                              u'end': 32000}]},\n",
      "                                   u'role': u'*',\n",
      "                                   u'type': u'RANGES'}],\n",
      "                 u'url': { u'address': { u'hostname': u'mesos-agent',\n",
      "                                         u'ip': u'192.168.33.11',\n",
      "                                         u'port': 5051},\n",
      "                           u'path': u'/slave(1)',\n",
      "                           u'scheme': u'http'}}]}\n"
     ]
    }
   ],
   "source": [
    "# This code is safe to execute any number of times; it will only try to connect once.\n",
    "# In other words, it's idempotent:\n",
    "\n",
    "count = 0\n",
    "while not framework_id and count < 10:\n",
    "    sleep(3)\n",
    "    print('.', end=\"\")\n",
    "    count += 1\n",
    "    \n",
    "if not framework_id:\n",
    "    print(\"Failed to register, terminating Framework\")\n",
    "    close_channel()\n",
    "else:\n",
    "    print(\"Registered a Framework with ID: {}\".format(framework_id))\n",
    "\n",
    "    print(\"Waiting for offers...\")\n",
    "\n",
    "    count = 0\n",
    "    while not offers and count < 10:\n",
    "        print('.', end=\"\")\n",
    "        sleep(3)\n",
    "        count += 1\n",
    "        \n",
    "    if not offers:\n",
    "        print(\"Failed to obtain resources, terminating Framework\")\n",
    "        terminate_framework(framework_id)\n",
    "        close_channel()\n",
    "    else:\n",
    "        print(\"Got offers:\")\n",
    "        pretty.pprint(offers)"
   ]
  },
  {
   "cell_type": "markdown",
   "metadata": {},
   "source": [
    "## For each slave, start simple server.\n",
    "\n",
    "### Get the number of slaves"
   ]
  },
  {
   "cell_type": "code",
   "execution_count": null,
   "metadata": {
    "collapsed": true
   },
   "outputs": [],
   "source": [
    "r = requests.get(\"{}/state.json\".format(MASTER_URL))\n",
    "master_state = r.json()\n",
    "number_of_slaves = master_state.get(\"activated_slaves\")\n",
    "print(\"Number of slaves: \" + number_of_slaves)"
   ]
  },
  {
   "cell_type": "markdown",
   "metadata": {},
   "source": [
    "### Start a job on each slave"
   ]
  },
  {
   "cell_type": "code",
   "execution_count": 26,
   "metadata": {
    "collapsed": true
   },
   "outputs": [],
   "source": [
    "for i in range(0, len(offers)):\n",
    "    print(\"Starting offer \", i)\n",
    "    offer = offers.get('offers')[i]\n",
    "    launch_json = get_json(LAUNCH_JSON)\n",
    "\n",
    "    task_id = str(random.randint(100, 1000))\n",
    "\n",
    "    launch_json[\"accept\"][\"offer_ids\"].append(offer[\"id\"])\n",
    "    launch_json[\"framework_id\"][\"value\"] = framework_id\n",
    "\n",
    "    task_infos = launch_json[\"accept\"][\"operations\"][0][\"launch\"][\"task_infos\"][0]\n",
    "\n",
    "    task_infos[\"task_id\"][\"value\"] = task_id\n",
    "    task_infos[\"command\"][\"value\"] = \"cd /var/local/www && /usr/bin/python -m SimpleHTTPServer 9000\"\n",
    "    task_infos[\"agent_id\"][\"value\"] = offers.get('offers')[0][\"agent_id\"][\"value\"]\n",
    "    task_infos[\"resources\"] = get_json(TASK_RESOURCES_JSON)\n",
    "\n",
    "\n",
    "    try:\n",
    "        r = post(API_URL, launch_json)\n",
    "        print(\"Result: {}\".format(r.status_code))\n",
    "        if r.text:\n",
    "            print(r.text)\n",
    "        if 200 <= r.status_code < 300:\n",
    "            print(\"Successfully launched task {} on Agent [{}]\".format(task_id, offers.get('offers')[0][\"agent_id\"][\"value\"]))\n",
    "    except ValueError, err:\n",
    "        print(\"Request failed: {}\".format(err))"
   ]
  }
 ],
 "metadata": {
  "kernelspec": {
   "display_name": "Python 2",
   "language": "python",
   "name": "python2"
  },
  "language_info": {
   "codemirror_mode": {
    "name": "ipython",
    "version": 2
   },
   "file_extension": ".py",
   "mimetype": "text/x-python",
   "name": "python",
   "nbconvert_exporter": "python",
   "pygments_lexer": "ipython2",
   "version": "2.7.10"
  }
 },
 "nbformat": 4,
 "nbformat_minor": 0
}
